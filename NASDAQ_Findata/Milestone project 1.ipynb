{
 "cells": [
  {
   "cell_type": "markdown",
   "metadata": {},
   "source": [
    "# Create a basic tic tac toe game that 2 players can play on a numpad based 3 * 3 square \n",
    "\n",
    "Required functions:\n",
    "\n",
    "1. Create the 3 * 3 square\n",
    "2. Request p1 to enter a number that translates to a specific section of the square. Prompt p2 to. Instruction are required to be of the type int(1-9) which needs to correlate with the list. \n",
    "3. Print the square according to instructions \n",
    "4. Error handling e.g. when a player tries to enter a number that is already occupied by another player. \n",
    "5. Evaluates if a player has won: Has the player that just completed their turn has 3 in line? Will need some evaluating logic e.g. grid[i+1][i-1] etc...\n"
   ]
  },
  {
   "cell_type": "code",
   "execution_count": 3,
   "metadata": {},
   "outputs": [
    {
     "name": "stdout",
     "output_type": "stream",
     "text": [
      "No of char in grid 1: 3\n",
      "\n",
      "Actual content of coordinate 2,1: x\n",
      "dict_numpad (2, 1)\n",
      "   |    |    \n",
      "   |    |    \n",
      "   | x  |    \n",
      "------------\n",
      "2\n",
      "1\n"
     ]
    }
   ],
   "source": [
    "\n",
    "def print_square():\n",
    "    #list index range = 4\n",
    "    \n",
    "    grid = [[' ',' ',' '],[' ',' ',' '],[' ','x',' ']]\n",
    "    \n",
    "    print('No of char in grid 1:',len(grid[1]))\n",
    "    print()\n",
    "    print('Actual content of coordinate 2,1:',grid[2][1])\n",
    "\n",
    "    dict_numpad = {7:(0,0),8:(0,1),9:(0,2),4:(1,0),5:(1,1),6:(1,2),1:(2,0),2:(2,1),3:(2,2)}\n",
    "    print('dict_numpad',dict_numpad[2])\n",
    "    \n",
    "    print('\\n'.join('| '.join(f'{x:{3}}' for x in row) for row in grid),sep='')\n",
    "    print('-'*len(grid)*4)\n",
    "    p1 = 2\n",
    "    \n",
    "    for n in dict_numpad[p1]:\n",
    "        print(n)\n",
    "    \n",
    "grid = print_square()\n"
   ]
  },
  {
   "cell_type": "code",
   "execution_count": 3,
   "metadata": {},
   "outputs": [
    {
     "name": "stdout",
     "output_type": "stream",
     "text": [
      "Choose your next position: (1-9)7\n",
      "7\n"
     ]
    }
   ],
   "source": [
    "\"\"\"User input \n",
    "Improvements: Only take numbers 1 - 9. \"\"\"\n",
    "\n",
    "p1 = int(input('Choose your next position: (1-9)'))\n",
    "\n",
    "\n",
    "print(p1)\n",
    "\n",
    "\n"
   ]
  },
  {
   "cell_type": "code",
   "execution_count": 2,
   "metadata": {},
   "outputs": [
    {
     "ename": "NameError",
     "evalue": "name 'grid' is not defined",
     "output_type": "error",
     "traceback": [
      "\u001b[1;31m---------------------------------------------------------------------------\u001b[0m",
      "\u001b[1;31mNameError\u001b[0m                                 Traceback (most recent call last)",
      "\u001b[1;32m<ipython-input-2-3f154f040863>\u001b[0m in \u001b[0;36m<module>\u001b[1;34m\u001b[0m\n\u001b[0;32m      1\u001b[0m \u001b[1;34m\"\"\"To get actual content of a coordinate in grid\"\"\"\u001b[0m\u001b[1;33m\u001b[0m\u001b[1;33m\u001b[0m\u001b[0m\n\u001b[0;32m      2\u001b[0m \u001b[1;33m\u001b[0m\u001b[0m\n\u001b[1;32m----> 3\u001b[1;33m \u001b[0mgrid\u001b[0m\u001b[1;33m[\u001b[0m\u001b[1;36m2\u001b[0m\u001b[1;33m]\u001b[0m\u001b[1;33m[\u001b[0m\u001b[1;36m1\u001b[0m\u001b[1;33m]\u001b[0m\u001b[1;33m\u001b[0m\u001b[1;33m\u001b[0m\u001b[0m\n\u001b[0m\u001b[0;32m      4\u001b[0m \u001b[1;33m\u001b[0m\u001b[0m\n\u001b[0;32m      5\u001b[0m \u001b[1;34m\"\"\"Need \"\"\"\u001b[0m\u001b[1;33m\u001b[0m\u001b[1;33m\u001b[0m\u001b[0m\n",
      "\u001b[1;31mNameError\u001b[0m: name 'grid' is not defined"
     ]
    }
   ],
   "source": [
    "\"\"\"To get actual content of a coordinate in grid\"\"\"\n",
    "\n",
    "grid[2][1]\n",
    "\n",
    "\"\"\"Need \"\"\"\n",
    "\n"
   ]
  },
  {
   "cell_type": "code",
   "execution_count": null,
   "metadata": {},
   "outputs": [],
   "source": []
  },
  {
   "cell_type": "code",
   "execution_count": null,
   "metadata": {},
   "outputs": [],
   "source": []
  },
  {
   "cell_type": "code",
   "execution_count": null,
   "metadata": {},
   "outputs": [],
   "source": []
  },
  {
   "cell_type": "code",
   "execution_count": null,
   "metadata": {},
   "outputs": [],
   "source": []
  },
  {
   "cell_type": "markdown",
   "metadata": {},
   "source": [
    "logic for input\n"
   ]
  },
  {
   "cell_type": "code",
   "execution_count": 1,
   "metadata": {},
   "outputs": [
    {
     "name": "stdout",
     "output_type": "stream",
     "text": [
      "[[7, 8, 9], [4, 5, 6], [1, 2, 3]]\n",
      "Choose your next position: (1-9)3\n",
      "3\n"
     ]
    }
   ],
   "source": [
    "\n",
    "L = [[7,8,9],[4,5,6],[1,2,3]]\n",
    "print(L)\n",
    "\n",
    "\n",
    "p1 = int(input('Choose your next position: (1-9)'))\n",
    "\n",
    "print(p1)\n",
    "\n"
   ]
  },
  {
   "cell_type": "code",
   "execution_count": null,
   "metadata": {},
   "outputs": [],
   "source": [
    "#Could potentialy put the | between the numbers when printing them out. \n",
    "\n"
   ]
  },
  {
   "cell_type": "code",
   "execution_count": null,
   "metadata": {
    "scrolled": true
   },
   "outputs": [],
   "source": []
  },
  {
   "cell_type": "code",
   "execution_count": null,
   "metadata": {},
   "outputs": [],
   "source": []
  },
  {
   "cell_type": "code",
   "execution_count": null,
   "metadata": {},
   "outputs": [],
   "source": []
  },
  {
   "cell_type": "code",
   "execution_count": null,
   "metadata": {},
   "outputs": [],
   "source": []
  },
  {
   "cell_type": "code",
   "execution_count": null,
   "metadata": {},
   "outputs": [],
   "source": []
  },
  {
   "cell_type": "code",
   "execution_count": null,
   "metadata": {},
   "outputs": [],
   "source": []
  }
 ],
 "metadata": {
  "kernelspec": {
   "display_name": "Python 3",
   "language": "python",
   "name": "python3"
  },
  "language_info": {
   "codemirror_mode": {
    "name": "ipython",
    "version": 3
   },
   "file_extension": ".py",
   "mimetype": "text/x-python",
   "name": "python",
   "nbconvert_exporter": "python",
   "pygments_lexer": "ipython3",
   "version": "3.7.3"
  }
 },
 "nbformat": 4,
 "nbformat_minor": 2
}
